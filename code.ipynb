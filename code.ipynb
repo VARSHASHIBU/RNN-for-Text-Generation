{
  "nbformat": 4,
  "nbformat_minor": 0,
  "metadata": {
    "colab": {
      "private_outputs": true,
      "provenance": []
    },
    "kernelspec": {
      "name": "python3",
      "display_name": "Python 3"
    },
    "language_info": {
      "name": "python"
    }
  },
  "cells": [
    {
      "cell_type": "code",
      "source": [
        "import numpy as np"
      ],
      "metadata": {
        "id": "c89_b6SBc3vq"
      },
      "execution_count": null,
      "outputs": []
    },
    {
      "cell_type": "code",
      "source": [
        "class TextGenerator:\n",
        "    def __init__(self, vocab_size, embedding_dim, hidden_dim, seq_length):\n",
        "        self.vocab_size = vocab_size\n",
        "        self.embedding_dim = embedding_dim\n",
        "        self.hidden_dim = hidden_dim\n",
        "        self.seq_length = seq_length\n",
        "\n",
        "        # Initialize weights\n",
        "        self.W_xh = np.random.randn(hidden_dim, embedding_dim)\n",
        "        self.W_hh = np.random.randn(hidden_dim, hidden_dim)\n",
        "        self.b_h = np.zeros((hidden_dim, 1))\n",
        "        self.W_ho = np.random.randn(vocab_size, hidden_dim)\n",
        "        self.b_o = np.zeros((vocab_size, 1))\n",
        "\n",
        "        self.h = np.zeros((hidden_dim, 1)) # Initialize hidden state\n",
        "\n",
        "\n",
        "    def forward(self, input_seq):\n",
        "        outputs = []\n",
        "        for t in range(self.seq_length):\n",
        "            x = input_seq[t]\n",
        "            h_prev = self.h\n",
        "\n",
        "            self.h = np.tanh(np.dot(self.W_xh, x) + np.dot(self.W_hh, h_prev) + self.b_h)\n",
        "            output = np.dot(self.W_ho, self.h) + self.b_o\n",
        "            outputs.append(output)\n",
        "        return outputs\n",
        "\n",
        "\n",
        "    def predict(self, input_seq):\n",
        "\n",
        "        outputs = self.forward(input_seq)\n",
        "        predicted_chars = []\n",
        "        for output in outputs:\n",
        "          predicted_char_idx = np.argmax(output) # Greedy decoding\n",
        "          predicted_chars.append(predicted_char_idx)\n",
        "        return predicted_chars\n",
        "\n",
        "\n",
        "    def train(self, input_seqs, target_seqs, learning_rate):\n",
        "\n",
        "        for input_seq, target_seq in zip(input_seqs, target_seqs):\n",
        "          outputs = self.forward(input_seq)\n",
        "\n",
        "          for t in range(self.seq_length):\n",
        "            loss = np.mean((outputs[t] - target_seq[t])**2)\n",
        "            self.W_ho -= learning_rate * (outputs[t] - target_seq[t])"
      ],
      "metadata": {
        "id": "jP9lupe8c3x4"
      },
      "execution_count": null,
      "outputs": []
    },
    {
      "cell_type": "code",
      "source": [
        "vocab_size = 27 #Example\n",
        "embedding_dim = 10\n",
        "hidden_dim = 20\n",
        "seq_length = 5"
      ],
      "metadata": {
        "id": "ncycI5H4c30U"
      },
      "execution_count": null,
      "outputs": []
    },
    {
      "cell_type": "code",
      "source": [
        "input_sequences = np.random.randint(0, vocab_size, size=(10, seq_length, embedding_dim))\n",
        "target_sequences = np.random.randint(0, vocab_size, size=(10, seq_length))\n",
        "model = TextGenerator(vocab_size, embedding_dim, hidden_dim, seq_length)"
      ],
      "metadata": {
        "id": "YSp-hPQ_c33M"
      },
      "execution_count": null,
      "outputs": []
    },
    {
      "cell_type": "code",
      "source": [
        "model.train(input_sequences, target_sequences, learning_rate=0.01)"
      ],
      "metadata": {
        "id": "SCkEI5Lsc36o"
      },
      "execution_count": null,
      "outputs": []
    },
    {
      "cell_type": "code",
      "source": [
        "input_seq = np.random.randint(0,vocab_size, size = (seq_length, embedding_dim))\n",
        "prediction = model.predict(input_seq)\n",
        "prediction"
      ],
      "metadata": {
        "id": "1L9N2qepc4Dl"
      },
      "execution_count": null,
      "outputs": []
    },
    {
      "cell_type": "code",
      "source": [],
      "metadata": {
        "id": "Wut6VVZ9Z0ed"
      },
      "execution_count": null,
      "outputs": []
    }
  ]
}